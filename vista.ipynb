{
 "cells": [
  {
   "cell_type": "code",
   "execution_count": 1,
   "metadata": {},
   "outputs": [
    {
     "data": {
      "application/vnd.jupyter.widget-view+json": {
       "model_id": "bd848a05d42b4e4cb2833b284ccbaaf6",
       "version_major": 2,
       "version_minor": 0
      },
      "text/plain": [
       "Widget(value=\"<iframe src='http://localhost:61658/index.html?ui=P_0x2c035133c70_0&reconnect=auto' style='width…"
      ]
     },
     "metadata": {},
     "output_type": "display_data"
    }
   ],
   "source": [
    "import pyvista as pv\n",
    "from pyvista import examples\n",
    "\n",
    "dataset = examples.download_lucy()\n",
    "dataset.plot(smooth_shading=True, color='white')"
   ]
  },
  {
   "cell_type": "code",
   "execution_count": 3,
   "metadata": {},
   "outputs": [
    {
     "data": {
      "application/vnd.jupyter.widget-view+json": {
       "model_id": "3c2cf7b6f31e455d968ef66b9937a59c",
       "version_major": 2,
       "version_minor": 0
      },
      "text/plain": [
       "Widget(value=\"<iframe src='http://localhost:61658/index.html?ui=P_0x2c058a389d0_3&reconnect=auto' style='width…"
      ]
     },
     "metadata": {},
     "output_type": "display_data"
    }
   ],
   "source": [
    "import pyvista as pv\n",
    "sphere = pv.Sphere()\n",
    "\n",
    "# short example\n",
    "sphere.plot(jupyter_backend='trame')\n",
    "\n",
    "# # long example\n",
    "# plotter = pv.Plotter(notebook=True)\n",
    "# plotter.add_mesh(sphere)\n",
    "# plotter.show(jupyter_backend='trame')\n"
   ]
  },
  {
   "cell_type": "code",
   "execution_count": 4,
   "metadata": {},
   "outputs": [
    {
     "data": {
      "application/vnd.jupyter.widget-view+json": {
       "model_id": "8070b274632a4b9e875ae41e707c6368",
       "version_major": 2,
       "version_minor": 0
      },
      "text/plain": [
       "Widget(value=\"<iframe src='http://localhost:61658/index.html?ui=P_0x2c058aba1a0_4&reconnect=auto' style='width…"
      ]
     },
     "metadata": {},
     "output_type": "display_data"
    },
    {
     "data": {
      "application/vnd.jupyter.widget-view+json": {
       "model_id": "1c0dbf555be44eb489b61301b6c1e406",
       "version_major": 2,
       "version_minor": 0
      },
      "text/plain": [
       "Widget(value=\"<iframe src='http://localhost:61658/index.html?ui=P_0x2c0351338e0_5&reconnect=auto' style='width…"
      ]
     },
     "metadata": {},
     "output_type": "display_data"
    }
   ],
   "source": [
    "pv.set_jupyter_backend('client')\n",
    "\n",
    "pv.Cone().plot()\n",
    "\n",
    "mesh = examples.load_hexbeam()\n",
    "cpos = [(6.20, 3.00, 7.50),\n",
    "        (0.16, 0.13, 2.65),\n",
    "        (-0.28, 0.94, -0.21)]\n",
    "\n",
    "pl = pv.Plotter()\n",
    "pl.add_mesh(mesh, show_edges=True, color='white')\n",
    "pl.add_points(mesh.points, color='red', point_size=20)\n",
    "pl.camera_position = cpos\n",
    "pl.show()"
   ]
  },
  {
   "cell_type": "code",
   "execution_count": 5,
   "metadata": {},
   "outputs": [
    {
     "name": "stdout",
     "output_type": "stream",
     "text": [
      "Help on function get_reader in module pyvista.core.utilities.reader:\n",
      "\n",
      "get_reader(filename, force_ext=None)\n",
      "    Get a reader for fine-grained control of reading data files.\n",
      "    \n",
      "    Supported file types and Readers:\n",
      "    \n",
      "    +----------------+---------------------------------------------+\n",
      "    | File Extension | Class                                       |\n",
      "    +================+=============================================+\n",
      "    | ``.bmp``       | :class:`pyvista.BMPReader`                  |\n",
      "    +----------------+---------------------------------------------+\n",
      "    | ``.cas``       | :class:`pyvista.FluentReader`               |\n",
      "    +----------------+---------------------------------------------+\n",
      "    | ``.case``      | :class:`pyvista.EnSightReader`              |\n",
      "    +----------------+---------------------------------------------+\n",
      "    | ``.cgns``      | :class:`pyvista.CGNSReader`                 |\n",
      "    +----------------+---------------------------------------------+\n",
      "    | ``.dat``       | :class:`pyvista.TecplotReader`              |\n",
      "    +----------------+---------------------------------------------+\n",
      "    | ``.dcm``       | :class:`pyvista.DICOMReader`                |\n",
      "    +----------------+---------------------------------------------+\n",
      "    | ``.dem``       | :class:`pyvista.DEMReader`                  |\n",
      "    +----------------+---------------------------------------------+\n",
      "    | ``.facet``     | :class:`pyvista.FacetReader`                |\n",
      "    +----------------+---------------------------------------------+\n",
      "    | ``.foam``      | :class:`pyvista.POpenFOAMReader`            |\n",
      "    +----------------+---------------------------------------------+\n",
      "    | ``.g``         | :class:`pyvista.BYUReader`                  |\n",
      "    +----------------+---------------------------------------------+\n",
      "    | ``.gif``       | :class:`pyvista.GIFReader`                  |\n",
      "    +----------------+---------------------------------------------+\n",
      "    | ``.glb``       | :class:`pyvista.GLTFReader`                 |\n",
      "    +----------------+---------------------------------------------+\n",
      "    | ``.gltf``      | :class:`pyvista.GLTFReader`                 |\n",
      "    +----------------+---------------------------------------------+\n",
      "    | ``.hdf``       | :class:`pyvista.HDFReader`                  |\n",
      "    +----------------+---------------------------------------------+\n",
      "    | ``.img``       | :class:`pyvista.DICOMReader`                |\n",
      "    +----------------+---------------------------------------------+\n",
      "    | ``.inp``       | :class:`pyvista.AVSucdReader`               |\n",
      "    +----------------+---------------------------------------------+\n",
      "    | ``.jpg``       | :class:`pyvista.JPEGReader`                 |\n",
      "    +----------------+---------------------------------------------+\n",
      "    | ``.jpeg``      | :class:`pyvista.JPEGReader`                 |\n",
      "    +----------------+---------------------------------------------+\n",
      "    | ``.hdr``       | :class:`pyvista.HDRReader`                  |\n",
      "    +----------------+---------------------------------------------+\n",
      "    | ``.mha``       | :class:`pyvista.MetaImageReader`            |\n",
      "    +----------------+---------------------------------------------+\n",
      "    | ``.mhd``       | :class:`pyvista.MetaImageReader`            |\n",
      "    +----------------+---------------------------------------------+\n",
      "    | ``.nii``       | :class:`pyvista.NIFTIReader`                |\n",
      "    +----------------+---------------------------------------------+\n",
      "    | ``.nii.gz``    | :class:`pyvista.NIFTIReader`                |\n",
      "    +----------------+---------------------------------------------+\n",
      "    | ``.nhdr``      | :class:`pyvista.NRRDReader`                 |\n",
      "    +----------------+---------------------------------------------+\n",
      "    | ``.nrrd``      | :class:`pyvista.NRRDReader`                 |\n",
      "    +----------------+---------------------------------------------+\n",
      "    | ``.obj``       | :class:`pyvista.OBJReader`                  |\n",
      "    +----------------+---------------------------------------------+\n",
      "    | ``.p3d``       | :class:`pyvista.Plot3DMetaReader`           |\n",
      "    +----------------+---------------------------------------------+\n",
      "    | ``.ply``       | :class:`pyvista.PLYReader`                  |\n",
      "    +----------------+---------------------------------------------+\n",
      "    | ``.png``       | :class:`pyvista.PNGReader`                  |\n",
      "    +----------------+---------------------------------------------+\n",
      "    | ``.pnm``       | :class:`pyvista.PNMReader`                  |\n",
      "    +----------------+---------------------------------------------+\n",
      "    | ``.pts``       | :class:`pyvista.PTSReader`                  |\n",
      "    +----------------+---------------------------------------------+\n",
      "    | ``.pvd``       | :class:`pyvista.PVDReader`                  |\n",
      "    +----------------+---------------------------------------------+\n",
      "    | ``.pvti``      | :class:`pyvista.XMLPImageDataReader`        |\n",
      "    +----------------+---------------------------------------------+\n",
      "    | ``.pvtk``      | :class:`pyvista.VTKPDataSetReader`          |\n",
      "    +----------------+---------------------------------------------+\n",
      "    | ``.pvtr``      | :class:`pyvista.XMLPRectilinearGridReader`  |\n",
      "    +----------------+---------------------------------------------+\n",
      "    | ``.pvtu``      | :class:`pyvista.XMLPUnstructuredGridReader` |\n",
      "    +----------------+---------------------------------------------+\n",
      "    | ``.res``       | :class:`pyvista.MFIXReader`                 |\n",
      "    +----------------+---------------------------------------------+\n",
      "    | ``.segy``      | :class:`pyvista.SegYReader`                 |\n",
      "    +----------------+---------------------------------------------+\n",
      "    | ``.sgy``       | :class:`pyvista.SegYReader`                 |\n",
      "    +----------------+---------------------------------------------+\n",
      "    | ``.slc``       | :class:`pyvista.SLCReader`                  |\n",
      "    +----------------+---------------------------------------------+\n",
      "    | ``.stl``       | :class:`pyvista.STLReader`                  |\n",
      "    +----------------+---------------------------------------------+\n",
      "    | ``.tif``       | :class:`pyvista.TIFFReader`                 |\n",
      "    +----------------+---------------------------------------------+\n",
      "    | ``.tiff``      | :class:`pyvista.TIFFReader`                 |\n",
      "    +----------------+---------------------------------------------+\n",
      "    | ``.tri``       | :class:`pyvista.BinaryMarchingCubesReader`  |\n",
      "    +----------------+---------------------------------------------+\n",
      "    | ``.vti``       | :class:`pyvista.XMLImageDataReader`         |\n",
      "    +----------------+---------------------------------------------+\n",
      "    | ``.vtk``       | :class:`pyvista.VTKDataSetReader`           |\n",
      "    +----------------+---------------------------------------------+\n",
      "    | ``.vtm``       | :class:`pyvista.XMLMultiBlockDataReader`    |\n",
      "    +----------------+---------------------------------------------+\n",
      "    | ``.vtmb``      | :class:`pyvista.XMLMultiBlockDataReader`    |\n",
      "    +----------------+---------------------------------------------+\n",
      "    | ``.vtp``       | :class:`pyvista.XMLPolyDataReader`          |\n",
      "    +----------------+---------------------------------------------+\n",
      "    | ``.vtr``       | :class:`pyvista.XMLRectilinearGridReader`   |\n",
      "    +----------------+---------------------------------------------+\n",
      "    | ``.vts``       | :class:`pyvista.XMLStructuredGridReader`    |\n",
      "    +----------------+---------------------------------------------+\n",
      "    | ``.vtu``       | :class:`pyvista.XMLUnstructuredGridReader`  |\n",
      "    +----------------+---------------------------------------------+\n",
      "    | ``.xdmf``      | :class:`pyvista.XdmfReader`                 |\n",
      "    +----------------+---------------------------------------------+\n",
      "    \n",
      "    Parameters\n",
      "    ----------\n",
      "    filename : str\n",
      "        The string path to the file to read.\n",
      "    \n",
      "    force_ext : str, optional\n",
      "        An extension to force a specific reader to be chosen.\n",
      "    \n",
      "    Returns\n",
      "    -------\n",
      "    pyvista.BaseReader\n",
      "        A subclass of :class:`pyvista.BaseReader` is returned based on file type.\n",
      "    \n",
      "    Examples\n",
      "    --------\n",
      "    >>> import pyvista\n",
      "    >>> from pyvista import examples\n",
      "    >>> filename = examples.download_human(load=False)\n",
      "    >>> filename.split(\"/\")[-1]  # omit the path\n",
      "    'Human.vtp'\n",
      "    >>> reader = pyvista.get_reader(filename)\n",
      "    >>> reader\n",
      "    XMLPolyDataReader('.../Human.vtp')\n",
      "    >>> mesh = reader.read()\n",
      "    >>> mesh\n",
      "    PolyData ...\n",
      "    >>> mesh.plot(color='lightblue')\n",
      "\n"
     ]
    }
   ],
   "source": [
    "help(pv.core.utilities.reader.get_reader)"
   ]
  },
  {
   "cell_type": "code",
   "execution_count": 7,
   "metadata": {},
   "outputs": [
    {
     "data": {
      "application/vnd.jupyter.widget-view+json": {
       "model_id": "2136c22d2bee4556b9277a257dda42ca",
       "version_major": 2,
       "version_minor": 0
      },
      "text/plain": [
       "Widget(value=\"<iframe src='http://localhost:61658/index.html?ui=P_0x2c058abbf40_7&reconnect=auto' style='width…"
      ]
     },
     "metadata": {},
     "output_type": "display_data"
    }
   ],
   "source": [
    "sphere_a = pv.Sphere()\n",
    "sphere_b = pv.Sphere(center=(0.5, 0, 0))\n",
    "result = sphere_a.boolean_union(sphere_b)\n",
    "pl = pv.Plotter()\n",
    "# _ = pl.add_mesh(sphere_a, color='r', style='wireframe', line_width=3)\n",
    "# _ = pl.add_mesh(sphere_b, color='b', style='wireframe', line_width=3)\n",
    "_ = pl.add_mesh(result, color='lightblue')\n",
    "pl.camera_position = 'xz'\n",
    "pl.show()"
   ]
  },
  {
   "cell_type": "code",
   "execution_count": 9,
   "metadata": {},
   "outputs": [
    {
     "data": {
      "application/vnd.jupyter.widget-view+json": {
       "model_id": "c34360013e8c451f95e4d76ff1b74a3b",
       "version_major": 2,
       "version_minor": 0
      },
      "text/plain": [
       "Widget(value=\"<iframe src='http://localhost:61658/index.html?ui=P_0x2c058abb550_8&reconnect=auto' style='width…"
      ]
     },
     "metadata": {},
     "output_type": "display_data"
    }
   ],
   "source": [
    "diff = sphere_a.boolean_difference(sphere_b)\n",
    "pl = pv.Plotter()\n",
    "_ = pl.add_mesh(diff, color='lightblue')\n",
    "pl.camera_position = 'xz'\n",
    "pl.show()"
   ]
  },
  {
   "cell_type": "code",
   "execution_count": 10,
   "metadata": {},
   "outputs": [
    {
     "data": {
      "application/vnd.jupyter.widget-view+json": {
       "model_id": "9dc58fc8121447e781f9bdd691e2ff97",
       "version_major": 2,
       "version_minor": 0
      },
      "text/plain": [
       "Widget(value=\"<iframe src='http://localhost:61658/index.html?ui=P_0x2c058abae60_9&reconnect=auto' style='width…"
      ]
     },
     "metadata": {},
     "output_type": "display_data"
    }
   ],
   "source": [
    "inter = sphere_a.boolean_intersection(sphere_b)\n",
    "pl = pv.Plotter()\n",
    "_ = pl.add_mesh(inter, color='lightblue')\n",
    "pl.camera_position = 'xz'\n",
    "pl.show()"
   ]
  },
  {
   "cell_type": "code",
   "execution_count": 74,
   "metadata": {},
   "outputs": [
    {
     "data": {
      "text/plain": [
       "array([  3,   0,   1, ..., 557, 603, 601], dtype=int64)"
      ]
     },
     "execution_count": 74,
     "metadata": {},
     "output_type": "execute_result"
    }
   ],
   "source": [
    "inter.points\n",
    "inter.faces\n",
    "# inter.point_data"
   ]
  },
  {
   "cell_type": "code",
   "execution_count": 72,
   "metadata": {},
   "outputs": [
    {
     "name": "stdout",
     "output_type": "stream",
     "text": [
      "['Normals', 'TCoords', 'FaceIndex']\n",
      "!!! FACES : [4 0 1 2 3 4 4 5 6 7 4 0 4 7 1 4 3 2 6 5 4 0 3 5 4 4 1 7 6 2]\n",
      "!!! POINTS : [[ -4.  -8. -12.]\n",
      " [ -4.  -8.  18.]\n",
      " [ -4.  12.  18.]\n",
      " [ -4.  12. -12.]\n",
      " [  6.  -8. -12.]\n",
      " [  6.  12. -12.]\n",
      " [  6.  12.  18.]\n",
      " [  6.  -8.  18.]]\n"
     ]
    },
    {
     "data": {
      "text/html": [
       "<table style='width: 100%;'><tr><th>Header</th><th>Data Arrays</th></tr><tr><td>\n",
       "<table style='width: 100%;'>\n",
       "<tr><th>PolyData</th><th>Information</th></tr>\n",
       "<tr><td>N Cells</td><td>6</td></tr>\n",
       "<tr><td>N Points</td><td>8</td></tr>\n",
       "<tr><td>N Strips</td><td>0</td></tr>\n",
       "<tr><td>X Bounds</td><td>-4.000e+00, 6.000e+00</td></tr>\n",
       "<tr><td>Y Bounds</td><td>-8.000e+00, 1.200e+01</td></tr>\n",
       "<tr><td>Z Bounds</td><td>-1.200e+01, 1.800e+01</td></tr>\n",
       "<tr><td>N Arrays</td><td>3</td></tr>\n",
       "</table>\n",
       "\n",
       "</td><td>\n",
       "<table style='width: 100%;'>\n",
       "<tr><th>Name</th><th>Field</th><th>Type</th><th>N Comp</th><th>Min</th><th>Max</th></tr>\n",
       "<tr><td>Normals</td><td>Points</td><td>float32</td><td>3</td><td>-1.000e+00</td><td>1.000e+00</td></tr>\n",
       "<tr><td>TCoords</td><td>Points</td><td>float32</td><td>2</td><td>-1.850e+01</td><td>1.850e+01</td></tr>\n",
       "<tr><td>FaceIndex</td><td>Cells</td><td>int32</td><td>1</td><td>0.000e+00</td><td>5.000e+00</td></tr>\n",
       "</table>\n",
       "\n",
       "</td></tr> </table>"
      ],
      "text/plain": [
       "PolyData (0x2c07e62e6e0)\n",
       "  N Cells:    6\n",
       "  N Points:   8\n",
       "  N Strips:   0\n",
       "  X Bounds:   -4.000e+00, 6.000e+00\n",
       "  Y Bounds:   -8.000e+00, 1.200e+01\n",
       "  Z Bounds:   -1.200e+01, 1.800e+01\n",
       "  N Arrays:   3"
      ]
     },
     "execution_count": 72,
     "metadata": {},
     "output_type": "execute_result"
    }
   ],
   "source": [
    "from pyvista import cell_array,  point_array, save_meshio\n",
    "\n",
    "cu=pv.Cube((1,2,3),10,20,30)\n",
    "# print('normals:',cu.cell_normals)\n",
    "# print('verts:',cu.verts)\n",
    "# [n0, p0_0, p0_1, ..., p0_n, n1, p1_0, p1_1, ..., p1_n, ...]\n",
    "print('!!! FACES :',cu.faces)\n",
    "print('!!! POINTS :',cu.points)\n",
    "# print('!!! REG FACES :',cu.regular_faces)\n",
    "# pv.plot(cu)\n",
    "# print('cell_array:',cell_array(cu,0))\n",
    "# print('point_array:',point_array(cu,0))\n",
    "cu\n",
    "# pv.save_meshio('cu.ply',cu)"
   ]
  },
  {
   "cell_type": "code",
   "execution_count": 70,
   "metadata": {},
   "outputs": [
    {
     "name": "stdout",
     "output_type": "stream",
     "text": [
      "[[ 2.  1.  1.]\n",
      " [-1.  1. -1.]\n",
      " [ 1. -1. -1.]\n",
      " [-1. -1.  1.]]\n"
     ]
    }
   ],
   "source": [
    "points = [[2.0, 1, 1], [-1, 1, -1], [1, -1, -1], [-1, -1, 1]]\n",
    "faces = [[0, 1, 2], [1, 3, 2], [0, 2, 3], [0, 3, 1]]\n",
    "tetra = pv.PolyData.from_regular_faces(points, faces)\n",
    "# pv.plot(tetra)\n",
    "print(tetra.points)"
   ]
  }
 ],
 "metadata": {
  "kernelspec": {
   "display_name": ".venv",
   "language": "python",
   "name": "python3"
  },
  "language_info": {
   "codemirror_mode": {
    "name": "ipython",
    "version": 3
   },
   "file_extension": ".py",
   "mimetype": "text/x-python",
   "name": "python",
   "nbconvert_exporter": "python",
   "pygments_lexer": "ipython3",
   "version": "3.10.11"
  }
 },
 "nbformat": 4,
 "nbformat_minor": 2
}

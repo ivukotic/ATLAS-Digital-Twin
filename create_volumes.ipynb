{
 "cells": [
  {
   "cell_type": "code",
   "execution_count": 1,
   "metadata": {},
   "outputs": [],
   "source": [
    "import sqlite3\n",
    "from pxr import Usd, UsdGeom, Gf, Vt, Sdf\n",
    "import pyvista as pv"
   ]
  },
  {
   "cell_type": "code",
   "execution_count": 2,
   "metadata": {},
   "outputs": [],
   "source": [
    "def load_table(db_file, table, cn):\n",
    "   conn = sqlite3.connect(db_file)\n",
    "   conn.row_factory = sqlite3.Row\n",
    "   cursor = conn.cursor()\n",
    "   query = f'SELECT * FROM {table};'\n",
    "   cursor.execute(query)\n",
    "   results = cursor.fetchall()\n",
    "   columns=results[0].keys()\n",
    "   print(table,len(results), columns)\n",
    "   res={}\n",
    "   for r in results:      \n",
    "      ins={}\n",
    "      for c in columns[1:]:\n",
    "         ins[c]=r[c]\n",
    "      res[r['id']]=type(cn,(),ins)\n",
    "   cursor.close()\n",
    "   conn.close()\n",
    "   return res"
   ]
  },
  {
   "cell_type": "code",
   "execution_count": 3,
   "metadata": {},
   "outputs": [
    {
     "name": "stdout",
     "output_type": "stream",
     "text": [
      "Shapes 119487 ['id', 'type', 'parameters']\n"
     ]
    }
   ],
   "source": [
    "database_file = \"geometry_atlas.db\"\n",
    "sh_d = load_table(database_file, 'Shapes','SH')"
   ]
  },
  {
   "cell_type": "code",
   "execution_count": 4,
   "metadata": {},
   "outputs": [],
   "source": [
    "def create_box(id, pars):\n",
    "    dx=pars['XHalfLength']\n",
    "    dy=pars['YHalfLength']\n",
    "    dz=pars['ZHalfLength']\n",
    "    stage: Usd.Stage = Usd.Stage.CreateNew(f\"assets/box_{id}.usda\")\n",
    "\n",
    "    box = UsdGeom.Mesh.Define(stage, f'/box_{id}')\n",
    "    box.CreatePointsAttr([\n",
    "        (-dx, -dy, -dz), \n",
    "        ( dx, -dy, -dz), \n",
    "        ( dx,  dy, -dz), \n",
    "        (-dx,  dy, -dz),        \n",
    "        (-dx, -dy,  dz), \n",
    "        ( dx, -dy,  dz), \n",
    "        ( dx,  dy,  dz), \n",
    "        (-dx,  dy,  dz),\n",
    "        ])\n",
    "    box.CreateFaceVertexCountsAttr([4,4,4,4,4,4])\n",
    "    box.CreateFaceVertexIndicesAttr([0, 3, 2, 1, 4, 5, 6, 7, 0, 1, 5, 4, 1, 2, 6, 5, 2, 3, 7, 6, 3, 0, 4, 7])\n",
    "    box.CreateExtentAttr([(-dx, -dy, -dz), (dx, dy, dz)])\n",
    "    box.CreateDisplayColorAttr([(0,0,1)])\n",
    "    stage.Save()"
   ]
  },
  {
   "cell_type": "code",
   "execution_count": 5,
   "metadata": {},
   "outputs": [],
   "source": [
    "def create_tube(id, pars):\n",
    "    # Tube {'RMin': 28.995, 'RMax': 245.0, 'ZHalfLength': 3460.0}\n",
    "    rmin=pars['RMin']\n",
    "    rmax=pars['RMax']\n",
    "    dz=pars['ZHalfLength']\n",
    "    stage: Usd.Stage = Usd.Stage.CreateNew(f\"assets/tube_{id}.usda\")\n",
    "\n",
    "    tube = UsdGeom.Mesh.Define(stage, f'/tube_{id}')\n",
    "    cout = pv.Cylinder(\n",
    "        center=(0,0,0), direction=(1,0,0), \n",
    "        radius=rmax,height=dz*2, \n",
    "        resolution=20, capping=True\n",
    "        ).triangulate(inplace=True)\n",
    "    cin = pv.Cylinder(radius=rmin, height=dz*2, capping =True).triangulate(inplace=True)\n",
    "    c = cout.boolean_difference(cin)\n",
    "    print(c.faces)\n",
    "    print(c.points)\n",
    "    # tube.CreatePointsAttr([\n",
    "    #     (-dx, -dy, -dz), \n",
    "    #     ( dx, -dy, -dz), \n",
    "    #     ( dx,  dy, -dz), \n",
    "    #     (-dx,  dy, -dz),        \n",
    "    #     (-dx, -dy,  dz), \n",
    "    #     ( dx, -dy,  dz), \n",
    "    #     ( dx,  dy,  dz), \n",
    "    #     (-dx,  dy,  dz),\n",
    "    #     ])\n",
    "    # tube.CreateFaceVertexCountsAttr([4,4,4,4,4,4])\n",
    "    # tube.CreateFaceVertexIndicesAttr([0, 3, 2, 1, 4, 5, 6, 7, 0, 1, 5, 4, 1, 2, 6, 5, 2, 3, 7, 6, 3, 0, 4, 7])\n",
    "    # tube.CreateExtentAttr([(-dx, -dy, -dz), (dx, dy, dz)])\n",
    "    tube.CreateDisplayColorAttr([(0,0,1)])\n",
    "    stage.Save()"
   ]
  },
  {
   "cell_type": "code",
   "execution_count": 6,
   "metadata": {},
   "outputs": [
    {
     "name": "stdout",
     "output_type": "stream",
     "text": [
      "1 Box {'XHalfLength': 10000.0, 'YHalfLength': 10000.0, 'ZHalfLength': 10000.0}\n",
      "2 Tube {'RMin': 28.995, 'RMax': 245.0, 'ZHalfLength': 3460.0}\n",
      "[  3   0   1 ... 343 345 341]\n",
      "[[ 3.4600000e+03 -2.4500000e+02  0.0000000e+00]\n",
      " [-3.4600000e+03 -2.4500000e+02  0.0000000e+00]\n",
      " [ 3.4600000e+03 -2.3300885e+02 -7.5709160e+01]\n",
      " ...\n",
      " [-3.4600000e+03 -2.8766365e+01  3.6340370e+00]\n",
      " [ 3.4600000e+03 -2.8937784e+01  1.8206111e+00]\n",
      " [-3.4600000e+03 -2.8937784e+01  1.8206111e+00]]\n",
      "3 Tube {'RMin': 28.997, 'RMax': 143.0, 'ZHalfLength': 460.0}\n",
      "[  3   0   1 ... 363 359 361]\n",
      "[[ 460.        -143.           0.       ]\n",
      " [-460.        -143.           0.       ]\n",
      " [ 460.        -136.00108    -44.18943  ]\n",
      " ...\n",
      " [-460.         -28.76835      3.6342878]\n",
      " [ 460.         -28.939781     1.8207366]\n",
      " [-460.         -28.939781     1.8207366]]\n",
      "4 Tube {'RMin': 29.757332898676882, 'RMax': 42.001, 'ZHalfLength': 339.101}\n",
      "[  3   0   1 ... 399 394 397]\n",
      "[[ 339.101      -42.001        0.       ]\n",
      " [-339.101      -42.001        0.       ]\n",
      " [ 339.101      -39.945324   -12.979023 ]\n",
      " ...\n",
      " [ 339.101      -29.62401      2.657709 ]\n",
      " [ 339.101      -29.698614     1.8684784]\n",
      " [-339.101      -29.698614     1.8684784]]\n",
      "5 SimplePolygonBrep {'DZ': 339.101, 'NVertices': 10.0, 'xV': -1.5284006879314045, 'yV': -10.43}\n",
      "6 Box {'XHalfLength': 0.39, 'YHalfLength': 10.43, 'ZHalfLength': 10.225}\n",
      "7 Shift {'A': 6.0, 'X': 3.0}\n",
      "8 Shift {'A': 7.0, 'X': 4.0}\n",
      "9 Box {'XHalfLength': 0.6900000000000001, 'YHalfLength': 3.129, 'ZHalfLength': 10.225}\n",
      "10 Shift {'A': 9.0, 'X': 5.0}\n",
      "11 Union {'opA': 8.0, 'opB': 10.0}\n",
      "12 Box {'XHalfLength': 0.345, 'YHalfLength': 3.129, 'ZHalfLength': 10.225}\n",
      "13 Shift {'A': 12.0, 'X': 6.0}\n",
      "14 Union {'opA': 11.0, 'opB': 13.0}\n",
      "15 Box {'XHalfLength': 0.125, 'YHalfLength': 0.89, 'ZHalfLength': 10.235}\n",
      "16 Shift {'A': 15.0, 'X': 7.0}\n",
      "17 Union {'opA': 14.0, 'opB': 16.0}\n",
      "18 Box {'XHalfLength': 0.04, 'YHalfLength': 4.71, 'ZHalfLength': 10.235}\n",
      "19 Shift {'A': 18.0, 'X': 8.0}\n",
      "20 Union {'opA': 17.0, 'opB': 19.0}\n",
      "21 Box {'XHalfLength': 0.115, 'YHalfLength': 8.86, 'ZHalfLength': 10.225}\n",
      "22 Box {'XHalfLength': 0.1, 'YHalfLength': 9.48, 'ZHalfLength': 10.0}\n",
      "23 Box {'XHalfLength': 0.105, 'YHalfLength': 0.88, 'ZHalfLength': 10.225}\n",
      "24 Box {'XHalfLength': 0.055, 'YHalfLength': 9.4, 'ZHalfLength': 9.235}\n",
      "25 Box {'XHalfLength': 0.065, 'YHalfLength': 4.36, 'ZHalfLength': 9.235}\n",
      "26 Box {'XHalfLength': 0.54, 'YHalfLength': 1.05, 'ZHalfLength': 0.625}\n"
     ]
    }
   ],
   "source": [
    "n=0\n",
    "for i,s in sh_d.items():\n",
    "    if s.type=='UnidentifiedShape':\n",
    "        print('skipping:', i, s.type, s.parameters)\n",
    "        continue\n",
    "\n",
    "    pars=s.parameters.split(';')\n",
    "    par_d={}\n",
    "    for p in pars:\n",
    "        par_d[p.split('=')[0]]=float(p.split('=')[1])\n",
    "    print(i, s.type, par_d)\n",
    "\n",
    "    if s.type=='Box': \n",
    "        create_box(i, par_d)\n",
    "    elif s.type=='Tube':\n",
    "        create_tube(i, par_d)\n",
    "    else:\n",
    "        pass\n",
    "    if i>25: break"
   ]
  }
 ],
 "metadata": {
  "kernelspec": {
   "display_name": ".venv",
   "language": "python",
   "name": "python3"
  },
  "language_info": {
   "codemirror_mode": {
    "name": "ipython",
    "version": 3
   },
   "file_extension": ".py",
   "mimetype": "text/x-python",
   "name": "python",
   "nbconvert_exporter": "python",
   "pygments_lexer": "ipython3",
   "version": "3.10.11"
  }
 },
 "nbformat": 4,
 "nbformat_minor": 2
}

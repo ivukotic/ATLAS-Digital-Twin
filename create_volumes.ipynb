{
 "cells": [
  {
   "cell_type": "code",
   "execution_count": 1,
   "metadata": {},
   "outputs": [],
   "source": [
    "import sqlite3\n",
    "from pxr import Usd, UsdGeom, Gf, Vt, Sdf"
   ]
  },
  {
   "cell_type": "code",
   "execution_count": 2,
   "metadata": {},
   "outputs": [],
   "source": [
    "def load_table(db_file, table, cn):\n",
    "   conn = sqlite3.connect(db_file)\n",
    "   conn.row_factory = sqlite3.Row\n",
    "   cursor = conn.cursor()\n",
    "   query = f'SELECT * FROM {table};'\n",
    "   cursor.execute(query)\n",
    "   results = cursor.fetchall()\n",
    "   columns=results[0].keys()\n",
    "   print(table,len(results), columns)\n",
    "   res={}\n",
    "   for r in results:      \n",
    "      ins={}\n",
    "      for c in columns[1:]:\n",
    "         ins[c]=r[c]\n",
    "      res[r['id']]=type(cn,(),ins)\n",
    "   cursor.close()\n",
    "   conn.close()\n",
    "   return res"
   ]
  },
  {
   "cell_type": "code",
   "execution_count": 3,
   "metadata": {},
   "outputs": [
    {
     "name": "stdout",
     "output_type": "stream",
     "text": [
      "Shapes 119487 ['id', 'type', 'parameters']\n"
     ]
    }
   ],
   "source": [
    "database_file = \"geometry_atlas.db\"\n",
    "sh_d = load_table(database_file, 'Shapes','SH')"
   ]
  },
  {
   "cell_type": "code",
   "execution_count": 5,
   "metadata": {},
   "outputs": [],
   "source": [
    "def create_box(id, pars):\n",
    "    dx=pars['XHalfLength']\n",
    "    dy=pars['YHalfLength']\n",
    "    dz=pars['ZHalfLength']\n",
    "    stage: Usd.Stage = Usd.Stage.CreateNew(f\"assets/box_{id}.usda\")\n",
    "\n",
    "    box = UsdGeom.Mesh.Define(stage, f'/box_{id}')\n",
    "    box.CreatePointsAttr([\n",
    "        (-dx, -dy, -dz), \n",
    "        ( dx, -dy, -dz), \n",
    "        ( dx,  dy, -dz), \n",
    "        (-dx,  dy, -dz),        \n",
    "        (-dx, -dy,  dz), \n",
    "        ( dx, -dy,  dz), \n",
    "        ( dx,  dy,  dz), \n",
    "        (-dx,  dy,  dz),\n",
    "        ])\n",
    "    box.CreateFaceVertexCountsAttr([4,4,4,4,4,4])\n",
    "    box.CreateFaceVertexIndicesAttr([0, 3, 2, 1, 4, 5, 6, 7, 0, 1, 5, 4, 1, 2, 6, 5, 2, 3, 7, 6, 3, 0, 4, 7])\n",
    "    box.CreateExtentAttr([(-dx, -dy, -dz), (dx, dy, dz)])\n",
    "    box.CreateDisplayColorAttr([(0,0,1)])\n",
    "    stage.Save()"
   ]
  },
  {
   "cell_type": "code",
   "execution_count": 6,
   "metadata": {},
   "outputs": [
    {
     "name": "stdout",
     "output_type": "stream",
     "text": [
      "1 Box {'XHalfLength': 10000.0, 'YHalfLength': 10000.0, 'ZHalfLength': 10000.0}\n",
      "2 Tube {'RMin': 28.995, 'RMax': 245.0, 'ZHalfLength': 3460.0}\n",
      "3 Tube {'RMin': 28.997, 'RMax': 143.0, 'ZHalfLength': 460.0}\n",
      "4 Tube {'RMin': 29.757332898676882, 'RMax': 42.001, 'ZHalfLength': 339.101}\n",
      "5 SimplePolygonBrep {'DZ': 339.101, 'NVertices': 10.0, 'xV': -1.5284006879314045, 'yV': -10.43}\n",
      "6 Box {'XHalfLength': 0.39, 'YHalfLength': 10.43, 'ZHalfLength': 10.225}\n",
      "7 Shift {'A': 6.0, 'X': 3.0}\n",
      "8 Shift {'A': 7.0, 'X': 4.0}\n",
      "9 Box {'XHalfLength': 0.6900000000000001, 'YHalfLength': 3.129, 'ZHalfLength': 10.225}\n",
      "10 Shift {'A': 9.0, 'X': 5.0}\n",
      "11 Union {'opA': 8.0, 'opB': 10.0}\n",
      "12 Box {'XHalfLength': 0.345, 'YHalfLength': 3.129, 'ZHalfLength': 10.225}\n",
      "13 Shift {'A': 12.0, 'X': 6.0}\n",
      "14 Union {'opA': 11.0, 'opB': 13.0}\n",
      "15 Box {'XHalfLength': 0.125, 'YHalfLength': 0.89, 'ZHalfLength': 10.235}\n",
      "16 Shift {'A': 15.0, 'X': 7.0}\n",
      "17 Union {'opA': 14.0, 'opB': 16.0}\n",
      "18 Box {'XHalfLength': 0.04, 'YHalfLength': 4.71, 'ZHalfLength': 10.235}\n",
      "19 Shift {'A': 18.0, 'X': 8.0}\n",
      "20 Union {'opA': 17.0, 'opB': 19.0}\n",
      "21 Box {'XHalfLength': 0.115, 'YHalfLength': 8.86, 'ZHalfLength': 10.225}\n",
      "22 Box {'XHalfLength': 0.1, 'YHalfLength': 9.48, 'ZHalfLength': 10.0}\n",
      "23 Box {'XHalfLength': 0.105, 'YHalfLength': 0.88, 'ZHalfLength': 10.225}\n",
      "24 Box {'XHalfLength': 0.055, 'YHalfLength': 9.4, 'ZHalfLength': 9.235}\n",
      "25 Box {'XHalfLength': 0.065, 'YHalfLength': 4.36, 'ZHalfLength': 9.235}\n"
     ]
    }
   ],
   "source": [
    "n=0\n",
    "for i,s in sh_d.items():\n",
    "    if s.type=='UnidentifiedShape':\n",
    "        print('skipping:', i, s.type, s.parameters)\n",
    "        continue\n",
    "\n",
    "    pars=s.parameters.split(';')\n",
    "    par_d={}\n",
    "    for p in pars:\n",
    "        par_d[p.split('=')[0]]=float(p.split('=')[1])\n",
    "    print(i, s.type, par_d)\n",
    "    if s.type=='Box': \n",
    "        create_box(i, par_d)\n",
    "        n+=1\n",
    "        if n>10: break"
   ]
  }
 ],
 "metadata": {
  "kernelspec": {
   "display_name": ".venv",
   "language": "python",
   "name": "python3"
  },
  "language_info": {
   "codemirror_mode": {
    "name": "ipython",
    "version": 3
   },
   "file_extension": ".py",
   "mimetype": "text/x-python",
   "name": "python",
   "nbconvert_exporter": "python",
   "pygments_lexer": "ipython3",
   "version": "3.10.11"
  }
 },
 "nbformat": 4,
 "nbformat_minor": 2
}

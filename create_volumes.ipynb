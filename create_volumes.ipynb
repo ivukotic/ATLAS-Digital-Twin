{
 "cells": [
  {
   "cell_type": "code",
   "execution_count": 1,
   "metadata": {},
   "outputs": [],
   "source": [
    "import sqlite3\n",
    "from pxr import Usd, UsdGeom, Gf, Vt, Sdf"
   ]
  },
  {
   "cell_type": "code",
   "execution_count": null,
   "metadata": {},
   "outputs": [],
   "source": [
    "def load_table(db_file, table, cn):\n",
    "   conn = sqlite3.connect(db_file)\n",
    "   conn.row_factory = sqlite3.Row\n",
    "   cursor = conn.cursor()\n",
    "   query = f'SELECT * FROM {table};'\n",
    "   cursor.execute(query)\n",
    "   results = cursor.fetchall()\n",
    "   columns=results[0].keys()\n",
    "   print(table,len(results), columns)\n",
    "   res={}\n",
    "   for r in results:      \n",
    "      ins={}\n",
    "      for c in columns[1:]:\n",
    "         ins[c]=r[c]\n",
    "      res[r['id']]=type(cn,(),ins)\n",
    "   cursor.close()\n",
    "   conn.close()\n",
    "   return res"
   ]
  },
  {
   "cell_type": "code",
   "execution_count": null,
   "metadata": {},
   "outputs": [],
   "source": [
    "database_file = \"geometry_atlas.db\"\n",
    "sh_d = load_table(database_file, 'Shapes','SH')"
   ]
  },
  {
   "cell_type": "code",
   "execution_count": null,
   "metadata": {},
   "outputs": [],
   "source": [
    "def Create_Box(Parameters):\n",
    "    path = \"assests/shapes/shape_\"+ str(Parameters[0])+\".usda\"\n",
    "    shape_name = \"/shape_\"+str(Parameters[0])\n",
    "    \n",
    "    stage = Usd.Stage.CreateNew(path)\n",
    "    xform = UsdGeom.Xform.Define(stage, shape_name)\n",
    "    box = UsdGeom.Cube.Define(stage, shape_name+\"/geometry\")\n",
    "\n",
    "    key_value_pairs=Parameters[2].split(\";\")\n",
    "    box_length=[]\n",
    "    for value in key_value_pairs:\n",
    "        box_length.append(float(value.split(\"=\")[1])*2)\n",
    "    extent = Vt.Vec3fArray(1, Gf.Vec3f(box_length[0],box_length[1],box_length[2]))\n",
    "    box.GetPrim().CreateAttribute(\"extent\", Sdf.ValueTypeNames.Float3Array).Set(extent)\n",
    "\n",
    "    # Add the box as a child of the xform\n",
    "    xform.GetPrim().GetChildren().append(box.GetPrim())\n",
    "\n",
    "    # Save the USD file\n",
    "    stage.GetRootLayer().Save()\n",
    "    return\n",
    "\n",
    "for i, sh in sh_d.items():\n",
    "    print(i)\n"
   ]
  }
 ],
 "metadata": {
  "kernelspec": {
   "display_name": ".venv",
   "language": "python",
   "name": "python3"
  },
  "language_info": {
   "codemirror_mode": {
    "name": "ipython",
    "version": 3
   },
   "file_extension": ".py",
   "mimetype": "text/x-python",
   "name": "python",
   "nbconvert_exporter": "python",
   "pygments_lexer": "ipython3",
   "version": "3.10.11"
  }
 },
 "nbformat": 4,
 "nbformat_minor": 2
}
